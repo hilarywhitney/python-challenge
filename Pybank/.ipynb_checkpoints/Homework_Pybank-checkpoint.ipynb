{
 "cells": [
  {
   "cell_type": "code",
   "execution_count": 39,
   "metadata": {},
   "outputs": [
    {
     "name": "stdout",
     "output_type": "stream",
     "text": [
      "{'May-2011', 'Apr-2013', 'Feb-2011', 'Oct-2012', 'May-2013', 'Jan-2013', 'Nov-2016', 'Feb-2012', 'Mar-2015', 'Oct-2010', 'Dec-2014', 'Feb-2010', 'Dec-2015', 'Dec-2010', 'Jan-2017', 'Mar-2014', 'Oct-2013', 'Jul-2012', 'Mar-2011', 'Dec-2013', 'Feb-2016', 'Sep-2012', 'Jun-2010', 'May-2012', 'Sep-2015', 'Nov-2010', 'Aug-2010', 'Apr-2012', 'Sep-2016', 'Jan-2010', 'Oct-2015', 'Jun-2011', 'Jul-2014', 'Jan-2012', 'Aug-2012', 'Feb-2015', 'Aug-2013', 'Jun-2013', 'Aug-2016', 'Jun-2015', 'Jul-2013', 'Jan-2015', 'Dec-2012', 'Jul-2016', 'May-2010', 'Sep-2013', 'May-2015', 'Sep-2010', 'Feb-2017', 'Aug-2014', 'Feb-2013', 'Oct-2016', 'Jun-2016', 'Sep-2011', 'Mar-2013', 'Mar-2016', 'Apr-2014', 'Jul-2015', 'Sep-2014', 'Apr-2011', 'Nov-2012', 'Aug-2015', 'May-2016', 'Jun-2012', 'Jan-2014', 'Nov-2015', 'Nov-2011', 'May-2014', 'Dec-2016', 'Jun-2014', 'Nov-2014', 'Oct-2014', 'Dec-2011', 'Oct-2011', 'Aug-2011', 'Jan-2016', 'Feb-2014', 'Apr-2015', 'Jul-2011', 'Jan-2011', 'Mar-2010', 'Apr-2016', 'Nov-2013', 'Apr-2010', 'Jul-2010', 'Mar-2012'}\n",
      "5\n",
      "4\n",
      "2\n",
      "10\n",
      "5\n",
      "1\n",
      "11\n",
      "2\n",
      "3\n",
      "10\n",
      "12\n",
      "2\n",
      "12\n",
      "12\n",
      "1\n",
      "3\n",
      "10\n",
      "7\n",
      "3\n",
      "12\n",
      "2\n",
      "9\n",
      "6\n",
      "5\n",
      "9\n",
      "11\n",
      "8\n",
      "4\n",
      "9\n",
      "1\n",
      "10\n",
      "6\n",
      "7\n",
      "1\n",
      "8\n",
      "2\n",
      "8\n",
      "6\n",
      "8\n",
      "6\n",
      "7\n",
      "1\n",
      "12\n",
      "7\n",
      "5\n",
      "9\n",
      "5\n",
      "9\n",
      "2\n",
      "8\n",
      "2\n",
      "10\n",
      "6\n",
      "9\n",
      "3\n",
      "3\n",
      "4\n",
      "7\n",
      "9\n",
      "4\n",
      "11\n",
      "8\n",
      "5\n",
      "6\n",
      "1\n",
      "11\n",
      "11\n",
      "5\n",
      "12\n",
      "6\n",
      "11\n",
      "10\n",
      "12\n",
      "10\n",
      "8\n",
      "1\n",
      "2\n",
      "4\n",
      "7\n",
      "1\n",
      "3\n",
      "4\n",
      "11\n",
      "4\n",
      "7\n",
      "3\n"
     ]
    }
   ],
   "source": [
    "import os\n",
    "import csv\n",
    "import datetime\n",
    "\n",
    "pybank_path = os.path.join(\".\", \"budget_data.csv\")\n",
    "\n",
    "with open(pybank_path, newline = '') as csvfile:\n",
    "    csv_reader = csv.reader(csvfile, delimiter = ',')\n",
    "    csv_header = next(csv_reader)\n",
    "    date = set([row[0] for row in csv_reader])\n",
    "    for row in csv_reader:\n",
    "        print(row)\n",
    "    #months = datetime.datetime.date(%B)\n",
    "    #months = [month for month in date]datetime.datetime(date)\n",
    "    #print(months.month)\n",
    "    print(date)\n",
    "    for x in date:\n",
    "        datee = datetime.datetime.strptime(x, \"%b-%Y\")\n",
    "        print(datee.month)\n",
    "    "
   ]
  },
  {
   "cell_type": "code",
   "execution_count": 13,
   "metadata": {},
   "outputs": [
    {
     "ename": "IndentationError",
     "evalue": "unexpected indent (<ipython-input-13-839d89fed3c9>, line 13)",
     "output_type": "error",
     "traceback": [
      "\u001b[0;36m  File \u001b[0;32m\"<ipython-input-13-839d89fed3c9>\"\u001b[0;36m, line \u001b[0;32m13\u001b[0m\n\u001b[0;31m    for x in csv_reader:\u001b[0m\n\u001b[0m    ^\u001b[0m\n\u001b[0;31mIndentationError\u001b[0m\u001b[0;31m:\u001b[0m unexpected indent\n"
     ]
    }
   ],
   "source": [
    "import os\n",
    "import csv\n",
    "\n",
    "pybank_path = os.path.join(\".\", \"budget_data.csv\")\n",
    "\n",
    "with open(pybank_path, newline = '') as csvfile:\n",
    "    csv_reader = csv.reader(csvfile, delimiter = ',')\n",
    "    csv_header = next(csv_reader)\n",
    "    #for row in csv_reader:\n",
    "    #    print(row[1])\n",
    "    date = [row[0] for row in csv_reader]\n",
    "    profit_loss = []\n",
    "    for x in csv_reader:\n",
    "        profit = x[0]\n",
    "        profit_loss.append(profit)\n",
    "    print(profit_loss)\n",
    "    print(date)\n",
    "    total_profit_loss = 0\n",
    "    for row in profit_loss:\n",
    "        total_profit_loss += row\n",
    "    print(total_profit_loss)\n",
    "    "
   ]
  },
  {
   "cell_type": "code",
   "execution_count": 37,
   "metadata": {},
   "outputs": [
    {
     "ename": "ValueError",
     "evalue": "I/O operation on closed file.",
     "output_type": "error",
     "traceback": [
      "\u001b[0;31m---------------------------------------------------------------------------\u001b[0m",
      "\u001b[0;31mValueError\u001b[0m                                Traceback (most recent call last)",
      "\u001b[0;32m<ipython-input-37-37ff5c3951fa>\u001b[0m in \u001b[0;36m<module>\u001b[0;34m\u001b[0m\n\u001b[0;32m----> 1\u001b[0;31m \u001b[0;32mfor\u001b[0m \u001b[0mrow\u001b[0m \u001b[0;32min\u001b[0m \u001b[0mcsv_reader\u001b[0m\u001b[0;34m:\u001b[0m\u001b[0;34m\u001b[0m\u001b[0;34m\u001b[0m\u001b[0m\n\u001b[0m\u001b[1;32m      2\u001b[0m     \u001b[0mprint\u001b[0m\u001b[0;34m(\u001b[0m\u001b[0mrow\u001b[0m\u001b[0;34m)\u001b[0m\u001b[0;34m\u001b[0m\u001b[0;34m\u001b[0m\u001b[0m\n",
      "\u001b[0;31mValueError\u001b[0m: I/O operation on closed file."
     ]
    }
   ],
   "source": [
    "for row in csv_reader:\n",
    "    print(row)"
   ]
  },
  {
   "cell_type": "code",
   "execution_count": null,
   "metadata": {},
   "outputs": [],
   "source": []
  }
 ],
 "metadata": {
  "kernelspec": {
   "display_name": "Python 3",
   "language": "python",
   "name": "python3"
  },
  "language_info": {
   "codemirror_mode": {
    "name": "ipython",
    "version": 3
   },
   "file_extension": ".py",
   "mimetype": "text/x-python",
   "name": "python",
   "nbconvert_exporter": "python",
   "pygments_lexer": "ipython3",
   "version": "3.7.1"
  }
 },
 "nbformat": 4,
 "nbformat_minor": 2
}
