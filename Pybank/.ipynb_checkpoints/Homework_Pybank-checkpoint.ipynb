{
 "cells": [
  {
   "cell_type": "code",
   "execution_count": 72,
   "metadata": {},
   "outputs": [
    {
     "name": "stdout",
     "output_type": "stream",
     "text": [
      "Financial Analysis\n",
      "--------------------\n",
      "Total Months: 86\n",
      "Total: $38382578\n",
      "Average Change: $-2315.12\n",
      "Greatest Increase in Profits: Feb-2012 ($1926159)\n",
      "Greatest Decrease in Profits: Sep-2013 ($-2196167)\n",
      "None\n",
      "Greatest Increase in Profits: Feb-2012 ($1926159)\n"
     ]
    },
    {
     "ename": "TypeError",
     "evalue": "'max_increase_month' is an invalid keyword argument for str()",
     "output_type": "error",
     "traceback": [
      "\u001b[0;31m---------------------------------------------------------------------------\u001b[0m",
      "\u001b[0;31mTypeError\u001b[0m                                 Traceback (most recent call last)",
      "\u001b[0;32m<ipython-input-72-86aa288ef50c>\u001b[0m in \u001b[0;36m<module>\u001b[0;34m\u001b[0m\n\u001b[1;32m     59\u001b[0m     \u001b[0mcreate_txt\u001b[0m\u001b[0;34m.\u001b[0m\u001b[0mwrite\u001b[0m\u001b[0;34m(\u001b[0m\u001b[0;34m'Total: $'\u001b[0m \u001b[0;34m+\u001b[0m \u001b[0mstr\u001b[0m\u001b[0;34m(\u001b[0m\u001b[0msum\u001b[0m\u001b[0;34m(\u001b[0m\u001b[0mcsv_dict\u001b[0m\u001b[0;34m[\u001b[0m\u001b[0;34m'Profit/Losses'\u001b[0m\u001b[0;34m]\u001b[0m\u001b[0;34m)\u001b[0m\u001b[0;34m)\u001b[0m \u001b[0;34m+\u001b[0m \u001b[0;34m'\\n'\u001b[0m\u001b[0;34m)\u001b[0m\u001b[0;34m\u001b[0m\u001b[0;34m\u001b[0m\u001b[0m\n\u001b[1;32m     60\u001b[0m     \u001b[0mcreate_txt\u001b[0m\u001b[0;34m.\u001b[0m\u001b[0mwrite\u001b[0m\u001b[0;34m(\u001b[0m\u001b[0;34mf'Average Change: ${round(average_change, 2)} \\n'\u001b[0m\u001b[0;34m)\u001b[0m\u001b[0;34m\u001b[0m\u001b[0;34m\u001b[0m\u001b[0m\n\u001b[0;32m---> 61\u001b[0;31m     \u001b[0mcreate_txt\u001b[0m\u001b[0;34m.\u001b[0m\u001b[0mwrite\u001b[0m\u001b[0;34m(\u001b[0m\u001b[0mstr\u001b[0m\u001b[0;34m(\u001b[0m\u001b[0mmax_increase_month\u001b[0m \u001b[0;34m=\u001b[0m \u001b[0mmonth_row\u001b[0m\u001b[0;34m(\u001b[0m\u001b[0mmax\u001b[0m\u001b[0;34m,\u001b[0m \u001b[0;34m'Greatest Increase in Profits:'\u001b[0m\u001b[0;34m)\u001b[0m\u001b[0;34m)\u001b[0m \u001b[0;34m+\u001b[0m \u001b[0;34m'\\n'\u001b[0m\u001b[0;34m)\u001b[0m\u001b[0;34m\u001b[0m\u001b[0;34m\u001b[0m\u001b[0m\n\u001b[0m\u001b[1;32m     62\u001b[0m     \u001b[0;31m#create_txt.write(str(max_decrease_month) + '\\n')\u001b[0m\u001b[0;34m\u001b[0m\u001b[0;34m\u001b[0m\u001b[0;34m\u001b[0m\u001b[0m\n\u001b[1;32m     63\u001b[0m \u001b[0;34m\u001b[0m\u001b[0m\n",
      "\u001b[0;31mTypeError\u001b[0m: 'max_increase_month' is an invalid keyword argument for str()"
     ]
    }
   ],
   "source": [
    "import os\n",
    "import csv\n",
    "\n",
    "pybank_path = os.path.join(\".\", \"budget_data.csv\")\n",
    "\n",
    "with open(pybank_path, newline = '') as csvfile:\n",
    "    csv_reader = csv.reader(csvfile, delimiter = ',')\n",
    "    csv_header = next(csv_reader)\n",
    "    \n",
    "    #create new dictionary for data\n",
    "    csv_dict = {}\n",
    "    \n",
    "    for label in csv_header:\n",
    "        csv_dict[label] = []\n",
    "   \n",
    "    for row in csv_reader:\n",
    "        csv_dict['Date'].append(row[0])\n",
    "        csv_dict['Profit/Losses'].append(int(row[1]))\n",
    "    \n",
    "    #add monthly change to data dictionary\n",
    "    csv_dict['calculated'] = [0]\n",
    "    \n",
    "    previous_value = csv_dict['Profit/Losses'][0]\n",
    "    \n",
    "    for i in csv_dict['Profit/Losses'][1:]:\n",
    "        difference = int(i) - int(previous_value)\n",
    "        csv_dict['calculated'].append(difference)\n",
    "        previous_value = i\n",
    "    \n",
    "    #get average\n",
    "    average_change = sum(csv_dict['calculated']) / (len(csv_dict['calculated'])-1)\n",
    "\n",
    "\n",
    "    #find max decrease and max increase with month/year\n",
    "    def month_row(function, phrase):\n",
    "        value = function(csv_dict['calculated'])\n",
    "        row = csv_dict['calculated'].index(value)\n",
    "        return_value = csv_dict['Date'][row]\n",
    "        print(f'{phrase} {return_value} (${value})')\n",
    "    \n",
    "    #print_list\n",
    "    \n",
    "    #print summary\n",
    "\n",
    "    print('Financial Analysis')\n",
    "    print('-' * 20)\n",
    "    print('Total Months: ' + str(len(csv_dict['Profit/Losses'])))\n",
    "    print('Total: $' + str(sum(csv_dict['Profit/Losses'])))\n",
    "    print(f'Average Change: ${round(average_change, 2)}')\n",
    "    max_increase_month = month_row(max, 'Greatest Increase in Profits:')\n",
    "    max_decrease_month = month_row(min, 'Greatest Decrease in Profits:')\n",
    "    print(max_increase_month)\n",
    "    \n",
    "    create_txt = open(\"Pybank4.txt\", \"w+\")\n",
    "    \n",
    "    create_txt.write('Financial Analysis' + '\\n')\n",
    "    create_txt.write('-' * 20 + '\\n')\n",
    "    create_txt.write('Total Months: ' + str(len(csv_dict['Profit/Losses'])) + '\\n')\n",
    "    create_txt.write('Total: $' + str(sum(csv_dict['Profit/Losses'])) + '\\n')\n",
    "    create_txt.write(f'Average Change: ${round(average_change, 2)} \\n')\n",
    "    create_txt.write(str(max_increase_month = month_row(max, 'Greatest Increase in Profits:')) + '\\n') \n",
    "    #create_txt.write(str(max_decrease_month) + '\\n')\n",
    "    \n",
    "    create_txt.close()"
   ]
  },
  {
   "cell_type": "code",
   "execution_count": null,
   "metadata": {},
   "outputs": [],
   "source": [
    "# create file to write summary to\n",
    "f= open(\"output.txt\",\"w+\")\n",
    "\n",
    "# write out the information\n",
    "f.write(\"Financial Analysis\" + \"\\n\")\n",
    "f.write(\"----------------------------\" + \"\\n\")\n",
    "f.write(\"Total Months: \" + str(numMonths) + \"\\n\")\n",
    "f.write(\"Net Profits/Losses: $\" + str(netProfitLosses) + \"\\n\")\n",
    "f.write(\"Average Change: $\" + str(round( netDeltaOfProfitLosses/(numMonths-1) , 2 ) )  + \"\\n\")\n",
    "f.write(\"Greatest Increase in Profits: \" + greatestIncrease[\"date\"]  +  \"  ($\"  + str(greatestIncrease[\"amount\"]) +  \")\"  + \"\\n\")\n",
    "f.write(\"Greatest Decrease in Profits: \" + greatestDecrease[\"date\"]  +  \"  ($\"  + str(greatestDecrease[\"amount\"]) +  \")\"  + \"\\n\")\n",
    "\n",
    "# close the file    \n",
    "f.close() "
   ]
  },
  {
   "cell_type": "code",
   "execution_count": null,
   "metadata": {},
   "outputs": [],
   "source": [
    "    #print summary\n",
    "    def print_summary(action, new_line, close):\n",
    "        print('Financial Analysis')\n",
    "        print('-' * 20)\n",
    "        print('Total Months: ' + str(len(csv_dict['Profit/Losses'])))\n",
    "        print('Total: $' + str(sum(csv_dict['Profit/Losses'])))\n",
    "        print(f'Average Change: ${round(average_change, 2)}')\n",
    "        max_increase_month = month_row(max, 'Greatest Increase in Profits:')\n",
    "        max_decrease_month = month_row(min, 'Greatest Decrease in Profits:')\n",
    "    print(print_summary())\n",
    "    \n",
    "        create_txt = open(\"Pybank.txt\", \"w\")\n",
    "    create_txt.write('Financial Analysis')\n",
    "    create_txt.write('\\n')\n",
    "    create_txt.write('-' * 20)\n",
    "    create_txt.write('\\n')\n",
    "    create_txt.write('Total Months: ' + str(len(csv_dict['Profit/Losses'])))\n",
    "    create_txt.write('Total: $' + str(sum(csv_dict['Profit/Losses'])))\n",
    "    create_txt.write(f'Average Change: ${round(average_change, 2)}')\n",
    "    #create_txt.write(month_row(max, 'Greatest Increase in Profits:'))\n",
    "    #create_txt.write(month_row(min, 'Greatest Decrease in Profits:'))"
   ]
  },
  {
   "cell_type": "code",
   "execution_count": null,
   "metadata": {},
   "outputs": [],
   "source": []
  }
 ],
 "metadata": {
  "kernelspec": {
   "display_name": "Python 3",
   "language": "python",
   "name": "python3"
  },
  "language_info": {
   "codemirror_mode": {
    "name": "ipython",
    "version": 3
   },
   "file_extension": ".py",
   "mimetype": "text/x-python",
   "name": "python",
   "nbconvert_exporter": "python",
   "pygments_lexer": "ipython3",
   "version": "3.7.1"
  }
 },
 "nbformat": 4,
 "nbformat_minor": 2
}
