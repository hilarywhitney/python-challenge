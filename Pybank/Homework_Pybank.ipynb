{
 "cells": [
  {
   "cell_type": "code",
   "execution_count": 3,
   "metadata": {},
   "outputs": [
    {
     "name": "stdout",
     "output_type": "stream",
     "text": [
      "Total Months 86\n",
      "$38382578\n"
     ]
    }
   ],
   "source": [
    "import os\n",
    "import csv\n",
    "\n",
    "pybank_path = os.path.join(\".\", \"budget_data.csv\")\n",
    "\n",
    "with open(pybank_path, newline = '') as csvfile:\n",
    "    csv_reader = csv.reader(csvfile, delimiter = ',')\n",
    "    csv_header = next(csv_reader)\n",
    "    #date = [row[0] for row in csv_reader]\n",
    "    #profit_loss = [loss[1] for loss in csv_reader]\n",
    "    date = []\n",
    "    profit_loss = []\n",
    "    for x in csv_reader:\n",
    "        date.append(x[0])\n",
    "        profit_loss.append(int(x[1]))\n",
    "    print(f'Total Months: {len(date)}')\n",
    "    #print(profit_loss)\n",
    "    \n",
    "    total_profit_loss = 0\n",
    "    for item in profit_loss:\n",
    "        total_profit_loss += item\n",
    "    print(f'${total_profit_loss}')\n",
    "    "
   ]
  },
  {
   "cell_type": "code",
   "execution_count": null,
   "metadata": {},
   "outputs": [],
   "source": [
    "import os\n",
    "import csv\n",
    "import datetime\n",
    "\n",
    "pybank_path = os.path.join(\".\", \"budget_data.csv\")\n",
    "\n",
    "with open(pybank_path, newline = '') as csvfile:\n",
    "    csv_reader = csv.reader(csvfile, delimiter = ',')\n",
    "    csv_header = next(csv_reader)\n",
    "    date = set([row[0] for row in csv_reader])\n",
    "    for row in csv_reader:\n",
    "        print(row)\n",
    "    #months = datetime.datetime.date(%B)\n",
    "    #months = [month for month in date]datetime.datetime(date)\n",
    "    #print(months.month)\n",
    "    print(date)\n",
    "    for x in date:\n",
    "        datee = datetime.datetime.strptime(x, \"%b-%Y\")\n",
    "        print(datee.month)\n",
    "    "
   ]
  },
  {
   "cell_type": "code",
   "execution_count": null,
   "metadata": {},
   "outputs": [],
   "source": []
  }
 ],
 "metadata": {
  "kernelspec": {
   "display_name": "Python 3",
   "language": "python",
   "name": "python3"
  },
  "language_info": {
   "codemirror_mode": {
    "name": "ipython",
    "version": 3
   },
   "file_extension": ".py",
   "mimetype": "text/x-python",
   "name": "python",
   "nbconvert_exporter": "python",
   "pygments_lexer": "ipython3",
   "version": "3.7.1"
  }
 },
 "nbformat": 4,
 "nbformat_minor": 2
}
